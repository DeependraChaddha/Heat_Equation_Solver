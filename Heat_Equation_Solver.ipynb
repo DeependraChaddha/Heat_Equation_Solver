{
  "nbformat": 4,
  "nbformat_minor": 0,
  "metadata": {
    "colab": {
      "provenance": [],
      "include_colab_link": true
    },
    "kernelspec": {
      "name": "python3",
      "display_name": "Python 3"
    },
    "language_info": {
      "name": "python"
    }
  },
  "cells": [
    {
      "cell_type": "markdown",
      "metadata": {
        "id": "view-in-github",
        "colab_type": "text"
      },
      "source": [
        "<a href=\"https://colab.research.google.com/github/DeependraChaddha/Heat_Equation_Solver/blob/main/Heat_Equation_Solver.ipynb\" target=\"_parent\"><img src=\"https://colab.research.google.com/assets/colab-badge.svg\" alt=\"Open In Colab\"/></a>"
      ]
    },
    {
      "cell_type": "markdown",
      "source": [
        "#Introduction"
      ],
      "metadata": {
        "id": "AwYfEqMxbqy4"
      }
    },
    {
      "cell_type": "markdown",
      "source": [
        "Using Gradient Descent to solve heat equation.\n",
        "The difference between LHS and RHS of Heat Equation is used as Loss function.\n",
        "Will experiment with optimizers to see which works best"
      ],
      "metadata": {
        "id": "MRM75bUybpsr"
      }
    },
    {
      "cell_type": "markdown",
      "source": [
        "#Make imports"
      ],
      "metadata": {
        "id": "8-S1gKEic88U"
      }
    },
    {
      "cell_type": "code",
      "source": [
        "import torch\n",
        "from torch import nn\n",
        "import matplotlib\n",
        "import numpy as np\n",
        "import random"
      ],
      "metadata": {
        "id": "EFOqhEnLc-z5"
      },
      "execution_count": 21,
      "outputs": []
    },
    {
      "cell_type": "markdown",
      "source": [
        "#Device-Agnostic Code"
      ],
      "metadata": {
        "id": "Bm0J9Raydb4P"
      }
    },
    {
      "cell_type": "code",
      "source": [
        "device='cuda' if torch.cuda.is_available() else 'cpu'"
      ],
      "metadata": {
        "id": "dTtBkbpgdgFu"
      },
      "execution_count": 22,
      "outputs": []
    },
    {
      "cell_type": "markdown",
      "source": [
        "Set random seeds"
      ],
      "metadata": {
        "id": "sW_wHvxp0Aq5"
      }
    },
    {
      "cell_type": "code",
      "source": [
        "def set_seed(seed=42):\n",
        "    random.seed(seed)  # Python random module\n",
        "    np.random.seed(seed)  # NumPy\n",
        "    torch.manual_seed(seed)  # PyTorch CPU\n",
        "    torch.cuda.manual_seed(seed)  # PyTorch CUDA (Single GPU)\n",
        "    torch.cuda.manual_seed_all(seed)  # PyTorch CUDA (All GPUs)\n",
        "\n",
        "    # Ensures deterministic behavior in GPU operations\n",
        "    torch.backends.cudnn.deterministic = True\n",
        "    torch.backends.cudnn.benchmark = False  # Can slow down training but ensures reproducibility\n",
        "\n",
        "# Call this at the beginning of your script\n",
        "set_seed(42)"
      ],
      "metadata": {
        "id": "-1bpt_VE0CT1"
      },
      "execution_count": 23,
      "outputs": []
    },
    {
      "cell_type": "markdown",
      "source": [
        "#Specifying equation and coordinate system"
      ],
      "metadata": {
        "id": "C6qMUBaddla9"
      }
    },
    {
      "cell_type": "markdown",
      "source": [
        "Will figure out how to solve for first example, will then functionalize and implement on example 2 and 3. Example 4 is time dependent so may have to use different approach for that"
      ],
      "metadata": {
        "id": "5PHDDgXciCKz"
      }
    },
    {
      "cell_type": "markdown",
      "source": [
        "##Example 1\n",
        "∂²T/∂x² + ∂²T/∂y² = 8π²sin(2πx)sin(2πy)\n",
        "\n",
        "T(0,y) = 0\n",
        "T(1,y) = 0\n",
        "T(x,0) = 0\n",
        "T(x,1) = 0\n"
      ],
      "metadata": {
        "id": "0YrhWLQZ5-Kj"
      }
    },
    {
      "cell_type": "markdown",
      "source": [
        "Take x=0,x=1, y=0,y=1 as edges because of the initial conditions"
      ],
      "metadata": {
        "id": "CLpaNZaXgJb9"
      }
    },
    {
      "cell_type": "code",
      "source": [
        "#Specify number of points in grid in each direction\n",
        "#todo assert both nx,ny to be strictly greater than 1 when generalizing\n",
        "nx=10\n",
        "ny=10\n",
        "\n",
        "#calculate spacing between 2 points in the grid\n",
        "lx=1/(nx-1)\n",
        "ly=1/(ny-1)"
      ],
      "metadata": {
        "id": "enxkaKD1gS7v"
      },
      "execution_count": 24,
      "outputs": []
    },
    {
      "cell_type": "markdown",
      "source": [
        "Make grid"
      ],
      "metadata": {
        "id": "oT1WN-u05g-8"
      }
    },
    {
      "cell_type": "code",
      "source": [
        "#Make linear space of x and y and reshape to the shape(nx,1) and (ny,1) respectively (Reshaping is done so that in case of matrix multiplication or broadcasting no error is encountered)\n",
        "x=torch.linspace(0,1,nx).reshape(-1,1).requires_grad_(True)\n",
        "y=torch.linspace(0,1,ny).reshape(-1,1).requires_grad_(True)\n",
        "\n",
        "#Make meshgrid\n",
        "X,Y=torch.meshgrid(x.squeeze(),y.squeeze(),indexing='ij')\n",
        "X.reshape(-1,1).requires_grad_(True)\n",
        "Y.reshape(-1,1).requires_grad_(True)\n",
        "print(X.shape)\n",
        "print(Y.shape)"
      ],
      "metadata": {
        "id": "mD4Edxso5lF7",
        "colab": {
          "base_uri": "https://localhost:8080/"
        },
        "outputId": "fa2431a5-014f-4feb-b8f1-58cfcc275f74"
      },
      "execution_count": 25,
      "outputs": [
        {
          "output_type": "stream",
          "name": "stdout",
          "text": [
            "torch.Size([10, 10])\n",
            "torch.Size([10, 10])\n"
          ]
        }
      ]
    },
    {
      "cell_type": "code",
      "source": [
        "#To get (i,j) point\n",
        "i=3\n",
        "j=4\n",
        "print(f'(i,j)th point is {X[i,j]},{Y[i,j]}')"
      ],
      "metadata": {
        "colab": {
          "base_uri": "https://localhost:8080/"
        },
        "id": "4uxSQUGBzS7X",
        "outputId": "d0acc17a-a736-40ec-88e9-4ecde53ac97a"
      },
      "execution_count": 26,
      "outputs": [
        {
          "output_type": "stream",
          "name": "stdout",
          "text": [
            "(i,j)th point is 0.3333333432674408,0.4444444477558136\n"
          ]
        }
      ]
    },
    {
      "cell_type": "markdown",
      "source": [
        "Make Neural Network to find solution of Heat Equation"
      ],
      "metadata": {
        "id": "JtuDBk5O0kXA"
      }
    },
    {
      "cell_type": "code",
      "source": [
        "class SolutionFunction(nn.Module):\n",
        "  def __init__(self):\n",
        "    super().__init__()\n",
        "    self.layers=nn.Sequential(\n",
        "        nn.Linear(2,10),\n",
        "        nn.Tanh(),\n",
        "        nn.Linear(10,10),\n",
        "        nn.Tanh(),\n",
        "        nn.Linear(10,10),\n",
        "        nn.Tanh(),\n",
        "        nn.Linear(10,1)\n",
        "    )\n",
        "\n",
        "  def forward(self,X,Y):\n",
        "      #reshape before concatenation to get correct dimension\n",
        "      X=X.reshape(-1,1)\n",
        "      Y=Y.reshape(-1,1)\n",
        "      return self.layers(torch.cat((X,Y),dim=1)).reshape(10,10)\n",
        "\n",
        "#check if it works properly\n",
        "demo_model=SolutionFunction()\n",
        "###WHY IS RANDOM SEED NOT WORKING?????????###\n",
        "demo_model(X,Y)"
      ],
      "metadata": {
        "id": "1mZlMKj20uy8",
        "colab": {
          "base_uri": "https://localhost:8080/"
        },
        "outputId": "e0388fd5-b880-471a-dc27-99b60d8eaf91"
      },
      "execution_count": 35,
      "outputs": [
        {
          "output_type": "execute_result",
          "data": {
            "text/plain": [
              "tensor([[ 5.8318e-03,  5.5934e-03,  4.9777e-03,  3.9893e-03,  2.6384e-03,\n",
              "          9.4022e-04, -1.0847e-03, -3.4112e-03, -6.0101e-03, -8.8489e-03],\n",
              "        [ 1.0274e-03,  7.0386e-04,  1.1593e-05, -1.0429e-03, -2.4478e-03,\n",
              "         -4.1859e-03, -6.2351e-03, -8.5688e-03, -1.1157e-02, -1.3967e-02],\n",
              "        [-3.9907e-03, -4.3897e-03, -5.1465e-03, -6.2529e-03, -7.6956e-03,\n",
              "         -9.4557e-03, -1.1510e-02, -1.3831e-02, -1.6388e-02, -1.9149e-02],\n",
              "        [-9.1793e-03, -9.6450e-03, -1.0455e-02, -1.1601e-02, -1.3067e-02,\n",
              "         -1.4833e-02, -1.6875e-02, -1.9165e-02, -2.1673e-02, -2.4367e-02],\n",
              "        [-1.4495e-02, -1.5020e-02, -1.5874e-02, -1.7048e-02, -1.8524e-02,\n",
              "         -2.0282e-02, -2.2297e-02, -2.4541e-02, -2.6985e-02, -2.9596e-02],\n",
              "        [-1.9895e-02, -2.0473e-02, -2.1364e-02, -2.2556e-02, -2.4033e-02,\n",
              "         -2.5771e-02, -2.7747e-02, -2.9932e-02, -3.2298e-02, -3.4815e-02],\n",
              "        [-2.5339e-02, -2.5965e-02, -2.6888e-02, -2.8092e-02, -2.9560e-02,\n",
              "         -3.1270e-02, -3.3197e-02, -3.5313e-02, -3.7591e-02, -4.0003e-02],\n",
              "        [-3.0788e-02, -3.1461e-02, -3.2411e-02, -3.3623e-02, -3.5078e-02,\n",
              "         -3.6753e-02, -3.8623e-02, -4.0663e-02, -4.2846e-02, -4.5146e-02],\n",
              "        [-3.6208e-02, -3.6928e-02, -3.7904e-02, -3.9120e-02, -4.0558e-02,\n",
              "         -4.2194e-02, -4.4004e-02, -4.5963e-02, -4.8046e-02, -5.0229e-02],\n",
              "        [-4.1569e-02, -4.2335e-02, -4.3336e-02, -4.4557e-02, -4.5977e-02,\n",
              "         -4.7572e-02, -4.9319e-02, -5.1195e-02, -5.3177e-02, -5.5242e-02]],\n",
              "       grad_fn=<ViewBackward0>)"
            ]
          },
          "metadata": {},
          "execution_count": 35
        }
      ]
    },
    {
      "cell_type": "markdown",
      "source": [
        "Make Loss Function"
      ],
      "metadata": {
        "id": "YYUCaNhW1Bof"
      }
    },
    {
      "cell_type": "code",
      "source": [],
      "metadata": {
        "id": "CITduvBZ1EV3"
      },
      "execution_count": null,
      "outputs": []
    },
    {
      "cell_type": "markdown",
      "source": [
        "Set Optimizer and Train\n"
      ],
      "metadata": {
        "id": "i7gvnO4X1Kv_"
      }
    },
    {
      "cell_type": "code",
      "source": [
        "#Try plotting after every few steps to visualize the training process"
      ],
      "metadata": {
        "id": "V8-KTaG_1WDQ"
      },
      "execution_count": null,
      "outputs": []
    },
    {
      "cell_type": "markdown",
      "source": [
        "##Example 2\n",
        "Heat Equation: ∂²T/∂x² + ∂²T/∂y² = 0\n",
        "\n",
        "Initial Conditions:\n",
        "T(0,y) = 0\n",
        "T(1,y) = 0\n",
        "T(x,0) = 0\n",
        "T(x,1) = sin(πx)\n"
      ],
      "metadata": {
        "id": "Yuk7xTQAhA9s"
      }
    },
    {
      "cell_type": "code",
      "source": [],
      "metadata": {
        "id": "Nd1jnHRQhMMr"
      },
      "execution_count": null,
      "outputs": []
    },
    {
      "cell_type": "markdown",
      "source": [
        "##Example 3\n",
        "Heat Equation: ∂²T/∂x² + ∂²T/∂y² = 0\n",
        "\n",
        "Initial Conditions:\n",
        "T(0,y) = 0\n",
        "T(1,y) = y(1-y)\n",
        "T(x,0) = 0\n",
        "T(x,1) = 0\n"
      ],
      "metadata": {
        "id": "TC13_BX4hP7S"
      }
    },
    {
      "cell_type": "code",
      "source": [],
      "metadata": {
        "id": "jD7b51oLhxkG"
      },
      "execution_count": null,
      "outputs": []
    },
    {
      "cell_type": "markdown",
      "source": [
        "##Example 4\n",
        "Heat Equation: ∂T/∂t = α(∂²T/∂x² + ∂²T/∂y²)\n",
        "\n",
        "Initial Conditions:\n",
        "T(x,y,0) = sin(πx)sin(πy)\n",
        "T(0,y,t) = 0\n",
        "T(1,y,t) = 0\n",
        "T(x,0,t) = 0\n",
        "T(x,1,t) = 0\n",
        "α = 0.01\n"
      ],
      "metadata": {
        "id": "IM5pYejWhytA"
      }
    },
    {
      "cell_type": "code",
      "source": [],
      "metadata": {
        "id": "f8Y6o_E9h5Ph"
      },
      "execution_count": null,
      "outputs": []
    }
  ]
}