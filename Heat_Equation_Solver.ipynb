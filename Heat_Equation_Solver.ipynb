{
  "nbformat": 4,
  "nbformat_minor": 0,
  "metadata": {
    "colab": {
      "provenance": [],
      "include_colab_link": true
    },
    "kernelspec": {
      "name": "python3",
      "display_name": "Python 3"
    },
    "language_info": {
      "name": "python"
    }
  },
  "cells": [
    {
      "cell_type": "markdown",
      "metadata": {
        "id": "view-in-github",
        "colab_type": "text"
      },
      "source": [
        "<a href=\"https://colab.research.google.com/github/DeependraChaddha/Heat_Equation_Solver/blob/main/Heat_Equation_Solver.ipynb\" target=\"_parent\"><img src=\"https://colab.research.google.com/assets/colab-badge.svg\" alt=\"Open In Colab\"/></a>"
      ]
    },
    {
      "cell_type": "markdown",
      "source": [
        "#Introduction"
      ],
      "metadata": {
        "id": "AwYfEqMxbqy4"
      }
    },
    {
      "cell_type": "markdown",
      "source": [
        "Using Gradient Descent to solve heat equation.\n",
        "The difference between LHS and RHS of Heat Equation is used as Loss function.\n",
        "Will experiment with optimizers to see which works best"
      ],
      "metadata": {
        "id": "MRM75bUybpsr"
      }
    },
    {
      "cell_type": "markdown",
      "source": [
        "#Make imports"
      ],
      "metadata": {
        "id": "8-S1gKEic88U"
      }
    },
    {
      "cell_type": "code",
      "source": [
        "import torch\n",
        "from torch import nn\n",
        "import matplotlib"
      ],
      "metadata": {
        "id": "EFOqhEnLc-z5"
      },
      "execution_count": null,
      "outputs": []
    },
    {
      "cell_type": "markdown",
      "source": [
        "#Device-Agnostic Code"
      ],
      "metadata": {
        "id": "Bm0J9Raydb4P"
      }
    },
    {
      "cell_type": "code",
      "source": [
        "device='cuda' if torch.cuda.is_available() else 'cpu'"
      ],
      "metadata": {
        "id": "dTtBkbpgdgFu"
      },
      "execution_count": null,
      "outputs": []
    },
    {
      "cell_type": "markdown",
      "source": [
        "Set random seeds"
      ],
      "metadata": {
        "id": "sW_wHvxp0Aq5"
      }
    },
    {
      "cell_type": "code",
      "source": [
        "torch.manual_seed(68)\n",
        "if torch.cuda.is_available():\n",
        "  torch.cuda.manual_seed(68)\n",
        "  torch.cuda.manual_seed_all(68)"
      ],
      "metadata": {
        "id": "-1bpt_VE0CT1"
      },
      "execution_count": null,
      "outputs": []
    },
    {
      "cell_type": "markdown",
      "source": [
        "#Specifying equation and coordinate system"
      ],
      "metadata": {
        "id": "C6qMUBaddla9"
      }
    },
    {
      "cell_type": "markdown",
      "source": [
        "Will figure out how to solve for first example, will then functionalize and implement on example 2 and 3. Example 4 is time dependent so may have to use different approach for that"
      ],
      "metadata": {
        "id": "5PHDDgXciCKz"
      }
    },
    {
      "cell_type": "markdown",
      "source": [
        "##Example 1\n",
        "∂²T/∂x² + ∂²T/∂y² = 8π²sin(2πx)sin(2πy)\n",
        "\n",
        "T(0,y) = 0\n",
        "T(1,y) = 0\n",
        "T(x,0) = 0\n",
        "T(x,1) = 0\n"
      ],
      "metadata": {
        "id": "0YrhWLQZ5-Kj"
      }
    },
    {
      "cell_type": "markdown",
      "source": [
        "Take x=0,x=1, y=0,y=1 as edges because of the initial conditions"
      ],
      "metadata": {
        "id": "CLpaNZaXgJb9"
      }
    },
    {
      "cell_type": "code",
      "source": [
        "#Specify number of points in grid in each direction\n",
        "#todo assert both nx,ny to be strictly greater than 1 when generalizing\n",
        "nx=10\n",
        "ny=10\n",
        "\n",
        "#calculate spacing between 2 points in the grid\n",
        "lx=1/(nx-1)\n",
        "ly=1/(ny-1)"
      ],
      "metadata": {
        "id": "enxkaKD1gS7v"
      },
      "execution_count": null,
      "outputs": []
    },
    {
      "cell_type": "markdown",
      "source": [
        "Make grid"
      ],
      "metadata": {
        "id": "oT1WN-u05g-8"
      }
    },
    {
      "cell_type": "code",
      "source": [
        "#Make linear space of x and y and reshape to the shape(nx,1) and (ny,1) respectively (Reshaping is done so that in case of matrix multiplication or broadcasting no error is encountered)\n",
        "x=torch.linspace(0,1,nx).reshape(-1,1).requires_grad_(True)\n",
        "y=torch.linspace(0,1,ny).reshape(-1,1).requires_grad_(True)\n",
        "\n",
        "#Make meshgrid\n",
        "X,Y=torch.meshgrid(x.squeeze(),y.squeeze(),indexing='ij')\n",
        "X.reshape(-1,1).requires_grad_(True)\n",
        "Y.reshape(-1,1).requires_grad_(True)\n",
        "print(X)\n",
        "print(Y)"
      ],
      "metadata": {
        "id": "mD4Edxso5lF7",
        "colab": {
          "base_uri": "https://localhost:8080/"
        },
        "outputId": "c5fda1f8-8fee-448b-a72a-ac4abafa0269"
      },
      "execution_count": null,
      "outputs": [
        {
          "output_type": "stream",
          "name": "stdout",
          "text": [
            "tensor([[0.0000, 0.0000, 0.0000, 0.0000, 0.0000, 0.0000, 0.0000, 0.0000, 0.0000,\n",
            "         0.0000],\n",
            "        [0.1111, 0.1111, 0.1111, 0.1111, 0.1111, 0.1111, 0.1111, 0.1111, 0.1111,\n",
            "         0.1111],\n",
            "        [0.2222, 0.2222, 0.2222, 0.2222, 0.2222, 0.2222, 0.2222, 0.2222, 0.2222,\n",
            "         0.2222],\n",
            "        [0.3333, 0.3333, 0.3333, 0.3333, 0.3333, 0.3333, 0.3333, 0.3333, 0.3333,\n",
            "         0.3333],\n",
            "        [0.4444, 0.4444, 0.4444, 0.4444, 0.4444, 0.4444, 0.4444, 0.4444, 0.4444,\n",
            "         0.4444],\n",
            "        [0.5556, 0.5556, 0.5556, 0.5556, 0.5556, 0.5556, 0.5556, 0.5556, 0.5556,\n",
            "         0.5556],\n",
            "        [0.6667, 0.6667, 0.6667, 0.6667, 0.6667, 0.6667, 0.6667, 0.6667, 0.6667,\n",
            "         0.6667],\n",
            "        [0.7778, 0.7778, 0.7778, 0.7778, 0.7778, 0.7778, 0.7778, 0.7778, 0.7778,\n",
            "         0.7778],\n",
            "        [0.8889, 0.8889, 0.8889, 0.8889, 0.8889, 0.8889, 0.8889, 0.8889, 0.8889,\n",
            "         0.8889],\n",
            "        [1.0000, 1.0000, 1.0000, 1.0000, 1.0000, 1.0000, 1.0000, 1.0000, 1.0000,\n",
            "         1.0000]], grad_fn=<ExpandBackward0>)\n",
            "tensor([[0.0000, 0.1111, 0.2222, 0.3333, 0.4444, 0.5556, 0.6667, 0.7778, 0.8889,\n",
            "         1.0000],\n",
            "        [0.0000, 0.1111, 0.2222, 0.3333, 0.4444, 0.5556, 0.6667, 0.7778, 0.8889,\n",
            "         1.0000],\n",
            "        [0.0000, 0.1111, 0.2222, 0.3333, 0.4444, 0.5556, 0.6667, 0.7778, 0.8889,\n",
            "         1.0000],\n",
            "        [0.0000, 0.1111, 0.2222, 0.3333, 0.4444, 0.5556, 0.6667, 0.7778, 0.8889,\n",
            "         1.0000],\n",
            "        [0.0000, 0.1111, 0.2222, 0.3333, 0.4444, 0.5556, 0.6667, 0.7778, 0.8889,\n",
            "         1.0000],\n",
            "        [0.0000, 0.1111, 0.2222, 0.3333, 0.4444, 0.5556, 0.6667, 0.7778, 0.8889,\n",
            "         1.0000],\n",
            "        [0.0000, 0.1111, 0.2222, 0.3333, 0.4444, 0.5556, 0.6667, 0.7778, 0.8889,\n",
            "         1.0000],\n",
            "        [0.0000, 0.1111, 0.2222, 0.3333, 0.4444, 0.5556, 0.6667, 0.7778, 0.8889,\n",
            "         1.0000],\n",
            "        [0.0000, 0.1111, 0.2222, 0.3333, 0.4444, 0.5556, 0.6667, 0.7778, 0.8889,\n",
            "         1.0000],\n",
            "        [0.0000, 0.1111, 0.2222, 0.3333, 0.4444, 0.5556, 0.6667, 0.7778, 0.8889,\n",
            "         1.0000]], grad_fn=<ExpandBackward0>)\n"
          ]
        }
      ]
    },
    {
      "cell_type": "code",
      "source": [
        "#To get (i,j) point\n",
        "i=3\n",
        "j=4\n",
        "print(f'(i,j)th point is {X[i,j]},{Y[i,j]}')"
      ],
      "metadata": {
        "colab": {
          "base_uri": "https://localhost:8080/"
        },
        "id": "4uxSQUGBzS7X",
        "outputId": "9dcf48a7-2d84-4c20-8492-c85eec735e96"
      },
      "execution_count": null,
      "outputs": [
        {
          "output_type": "stream",
          "name": "stdout",
          "text": [
            "(i,j)th point is 0.3333333432674408,0.4444444477558136\n"
          ]
        }
      ]
    },
    {
      "cell_type": "markdown",
      "source": [
        "Make Neural Network to find solution of Heat Equation"
      ],
      "metadata": {
        "id": "JtuDBk5O0kXA"
      }
    },
    {
      "cell_type": "code",
      "source": [],
      "metadata": {
        "id": "1mZlMKj20uy8"
      },
      "execution_count": null,
      "outputs": []
    },
    {
      "cell_type": "markdown",
      "source": [
        "Make Loss Function"
      ],
      "metadata": {
        "id": "YYUCaNhW1Bof"
      }
    },
    {
      "cell_type": "code",
      "source": [],
      "metadata": {
        "id": "CITduvBZ1EV3"
      },
      "execution_count": null,
      "outputs": []
    },
    {
      "cell_type": "markdown",
      "source": [
        "Set Optimizer and Train\n"
      ],
      "metadata": {
        "id": "i7gvnO4X1Kv_"
      }
    },
    {
      "cell_type": "code",
      "source": [
        "#Try plotting after every few steps to visualize the training process"
      ],
      "metadata": {
        "id": "V8-KTaG_1WDQ"
      },
      "execution_count": null,
      "outputs": []
    },
    {
      "cell_type": "markdown",
      "source": [
        "##Example 2\n",
        "Heat Equation: ∂²T/∂x² + ∂²T/∂y² = 0\n",
        "\n",
        "Initial Conditions:\n",
        "T(0,y) = 0\n",
        "T(1,y) = 0\n",
        "T(x,0) = 0\n",
        "T(x,1) = sin(πx)\n"
      ],
      "metadata": {
        "id": "Yuk7xTQAhA9s"
      }
    },
    {
      "cell_type": "code",
      "source": [],
      "metadata": {
        "id": "Nd1jnHRQhMMr"
      },
      "execution_count": null,
      "outputs": []
    },
    {
      "cell_type": "markdown",
      "source": [
        "##Example 3\n",
        "Heat Equation: ∂²T/∂x² + ∂²T/∂y² = 0\n",
        "\n",
        "Initial Conditions:\n",
        "T(0,y) = 0\n",
        "T(1,y) = y(1-y)\n",
        "T(x,0) = 0\n",
        "T(x,1) = 0\n"
      ],
      "metadata": {
        "id": "TC13_BX4hP7S"
      }
    },
    {
      "cell_type": "code",
      "source": [],
      "metadata": {
        "id": "jD7b51oLhxkG"
      },
      "execution_count": null,
      "outputs": []
    },
    {
      "cell_type": "markdown",
      "source": [
        "##Example 4\n",
        "Heat Equation: ∂T/∂t = α(∂²T/∂x² + ∂²T/∂y²)\n",
        "\n",
        "Initial Conditions:\n",
        "T(x,y,0) = sin(πx)sin(πy)\n",
        "T(0,y,t) = 0\n",
        "T(1,y,t) = 0\n",
        "T(x,0,t) = 0\n",
        "T(x,1,t) = 0\n",
        "α = 0.01\n"
      ],
      "metadata": {
        "id": "IM5pYejWhytA"
      }
    },
    {
      "cell_type": "code",
      "source": [],
      "metadata": {
        "id": "f8Y6o_E9h5Ph"
      },
      "execution_count": null,
      "outputs": []
    }
  ]
}