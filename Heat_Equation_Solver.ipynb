version https://git-lfs.github.com/spec/v1
oid sha256:3e9768646da7780d5db4d2a857941e61a0df5c8e033cdd318f383ee3018bacaf
size 73824521
