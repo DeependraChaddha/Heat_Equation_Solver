{
  "nbformat": 4,
  "nbformat_minor": 0,
  "metadata": {
    "colab": {
      "provenance": [],
      "include_colab_link": true
    },
    "kernelspec": {
      "name": "python3",
      "display_name": "Python 3"
    },
    "language_info": {
      "name": "python"
    }
  },
  "cells": [
    {
      "cell_type": "markdown",
      "metadata": {
        "id": "view-in-github",
        "colab_type": "text"
      },
      "source": [
        "<a href=\"https://colab.research.google.com/github/DeependraChaddha/Heat_Equation_Solver/blob/main/Heat_Equation_Solver.ipynb\" target=\"_parent\"><img src=\"https://colab.research.google.com/assets/colab-badge.svg\" alt=\"Open In Colab\"/></a>"
      ]
    },
    {
      "cell_type": "markdown",
      "source": [
        "#Introduction"
      ],
      "metadata": {
        "id": "AwYfEqMxbqy4"
      }
    },
    {
      "cell_type": "markdown",
      "source": [
        "Using Gradient Descent to solve heat equation.\n",
        "The difference between LHS and RHS of Heat Equation is used as Loss function.\n",
        "Will experiment with optimizers to see which works best"
      ],
      "metadata": {
        "id": "MRM75bUybpsr"
      }
    },
    {
      "cell_type": "markdown",
      "source": [
        "#Make imports"
      ],
      "metadata": {
        "id": "8-S1gKEic88U"
      }
    },
    {
      "cell_type": "code",
      "source": [
        "import torch\n",
        "from torch import nn\n",
        "import matplotlib\n",
        "import numpy as np\n",
        "import random\n",
        "from torch import Tensor"
      ],
      "metadata": {
        "id": "EFOqhEnLc-z5"
      },
      "execution_count": 13,
      "outputs": []
    },
    {
      "cell_type": "markdown",
      "source": [
        "#Device-Agnostic Code"
      ],
      "metadata": {
        "id": "Bm0J9Raydb4P"
      }
    },
    {
      "cell_type": "code",
      "source": [
        "device='cuda' if torch.cuda.is_available() else 'cpu'"
      ],
      "metadata": {
        "id": "dTtBkbpgdgFu"
      },
      "execution_count": 14,
      "outputs": []
    },
    {
      "cell_type": "markdown",
      "source": [
        "Set random seeds"
      ],
      "metadata": {
        "id": "sW_wHvxp0Aq5"
      }
    },
    {
      "cell_type": "code",
      "source": [
        "def set_seed(seed=42):\n",
        "    random.seed(seed)  # Python random module\n",
        "    np.random.seed(seed)  # NumPy\n",
        "    torch.manual_seed(seed)  # PyTorch CPU\n",
        "    torch.cuda.manual_seed(seed)  # PyTorch CUDA (Single GPU)\n",
        "    torch.cuda.manual_seed_all(seed)  # PyTorch CUDA (All GPUs)\n",
        "\n",
        "    # Ensures deterministic behavior in GPU operations\n",
        "    torch.backends.cudnn.deterministic = True\n",
        "    torch.backends.cudnn.benchmark = False  # Can slow down training but ensures reproducibility\n",
        "\n",
        "# Call this at the beginning of your script\n",
        "set_seed(42)"
      ],
      "metadata": {
        "id": "-1bpt_VE0CT1"
      },
      "execution_count": 15,
      "outputs": []
    },
    {
      "cell_type": "markdown",
      "source": [
        "#Specifying equation and coordinate system"
      ],
      "metadata": {
        "id": "C6qMUBaddla9"
      }
    },
    {
      "cell_type": "markdown",
      "source": [
        "Will figure out how to solve for first example, will then functionalize and implement on example 2 and 3. Example 4 is time dependent so may have to use different approach for that"
      ],
      "metadata": {
        "id": "5PHDDgXciCKz"
      }
    },
    {
      "cell_type": "markdown",
      "source": [
        "##Example 1\n",
        "∂²T/∂x² + ∂²T/∂y² = 8π²sin(2πx)sin(2πy)\n",
        "\n",
        "T(0,y) = 0\n",
        "T(1,y) = 0\n",
        "T(x,0) = 0\n",
        "T(x,1) = 0\n"
      ],
      "metadata": {
        "id": "0YrhWLQZ5-Kj"
      }
    },
    {
      "cell_type": "markdown",
      "source": [
        "Take x=0,x=1, y=0,y=1 as edges because of the initial conditions"
      ],
      "metadata": {
        "id": "CLpaNZaXgJb9"
      }
    },
    {
      "cell_type": "code",
      "source": [
        "#Specify number of points in grid in each direction\n",
        "#todo assert both nx,ny to be strictly greater than 1 when generalizing\n",
        "nx=10\n",
        "ny=10\n",
        "\n",
        "#calculate spacing between 2 points in the grid\n",
        "lx=1/(nx-1)\n",
        "ly=1/(ny-1)"
      ],
      "metadata": {
        "id": "enxkaKD1gS7v"
      },
      "execution_count": 16,
      "outputs": []
    },
    {
      "cell_type": "markdown",
      "source": [
        "Make grid"
      ],
      "metadata": {
        "id": "oT1WN-u05g-8"
      }
    },
    {
      "cell_type": "code",
      "source": [
        "#Make linear space of x and y and reshape to the shape(nx,1) and (ny,1) respectively (Reshaping is done so that in case of matrix multiplication or broadcasting no error is encountered)\n",
        "x=torch.linspace(0,1,nx).reshape(-1,1).requires_grad_(True)\n",
        "y=torch.linspace(0,1,ny).reshape(-1,1).requires_grad_(True)\n",
        "\n",
        "#Make meshgrid\n",
        "X,Y=torch.meshgrid(x.squeeze(),y.squeeze(),indexing='ij')\n",
        "X.reshape(-1,1).requires_grad_(True)\n",
        "Y.reshape(-1,1).requires_grad_(True)\n",
        "print(X.shape)\n",
        "print(Y.shape)"
      ],
      "metadata": {
        "id": "mD4Edxso5lF7",
        "colab": {
          "base_uri": "https://localhost:8080/"
        },
        "outputId": "472bf26d-97a0-485c-d03b-9fcf848e0206"
      },
      "execution_count": 17,
      "outputs": [
        {
          "output_type": "stream",
          "name": "stdout",
          "text": [
            "torch.Size([10, 10])\n",
            "torch.Size([10, 10])\n"
          ]
        }
      ]
    },
    {
      "cell_type": "code",
      "source": [
        "#To get (i,j) point\n",
        "i=3\n",
        "j=4\n",
        "print(f'(i,j)th point is {X[i,j]},{Y[i,j]}')"
      ],
      "metadata": {
        "colab": {
          "base_uri": "https://localhost:8080/"
        },
        "id": "4uxSQUGBzS7X",
        "outputId": "631b778d-371e-45b9-f860-b5b022f15b01"
      },
      "execution_count": 18,
      "outputs": [
        {
          "output_type": "stream",
          "name": "stdout",
          "text": [
            "(i,j)th point is 0.3333333432674408,0.4444444477558136\n"
          ]
        }
      ]
    },
    {
      "cell_type": "markdown",
      "source": [
        "###Make PINN to find solution of Heat Equation\n",
        "\n",
        "\n",
        "\n",
        "\n",
        "\n"
      ],
      "metadata": {
        "id": "JtuDBk5O0kXA"
      }
    },
    {
      "cell_type": "markdown",
      "source": [],
      "metadata": {
        "id": "c_Um0ti3ejbA"
      }
    },
    {
      "cell_type": "code",
      "source": [
        "class SolutionFunction(nn.Module):\n",
        "  def __init__(self):\n",
        "    set_seed()\n",
        "    super().__init__()\n",
        "    self.layers=nn.Sequential(\n",
        "        nn.Linear(2,10),\n",
        "        nn.Tanh(),\n",
        "        nn.Linear(10,10),\n",
        "        nn.Tanh(),\n",
        "        nn.Linear(10,10),\n",
        "        nn.Tanh(),\n",
        "        nn.Linear(10,1)\n",
        "    )\n",
        "\n",
        "  def forward(self,X,Y):\n",
        "      #reshape before concatenation to get correct dimension\n",
        "      X=X.reshape(-1,1)\n",
        "      Y=Y.reshape(-1,1)\n",
        "      return self.layers(torch.cat((X,Y),dim=1)).reshape(10,10)\n",
        "\n",
        "#check if it works properly\n",
        "demo_model=SolutionFunction()\n",
        "demo_model(X,Y)"
      ],
      "metadata": {
        "id": "1mZlMKj20uy8",
        "colab": {
          "base_uri": "https://localhost:8080/"
        },
        "outputId": "84b6d380-d0aa-4b5c-be30-58f5c548a562"
      },
      "execution_count": 19,
      "outputs": [
        {
          "output_type": "execute_result",
          "data": {
            "text/plain": [
              "tensor([[0.3230, 0.3151, 0.3071, 0.2989, 0.2908, 0.2827, 0.2748, 0.2672, 0.2598,\n",
              "         0.2527],\n",
              "        [0.3271, 0.3189, 0.3105, 0.3021, 0.2937, 0.2854, 0.2773, 0.2695, 0.2621,\n",
              "         0.2550],\n",
              "        [0.3313, 0.3227, 0.3141, 0.3054, 0.2968, 0.2883, 0.2801, 0.2722, 0.2647,\n",
              "         0.2576],\n",
              "        [0.3355, 0.3267, 0.3178, 0.3089, 0.3001, 0.2915, 0.2832, 0.2752, 0.2676,\n",
              "         0.2605],\n",
              "        [0.3397, 0.3307, 0.3217, 0.3126, 0.3037, 0.2950, 0.2866, 0.2785, 0.2709,\n",
              "         0.2638],\n",
              "        [0.3438, 0.3347, 0.3256, 0.3164, 0.3074, 0.2987, 0.2902, 0.2821, 0.2745,\n",
              "         0.2673],\n",
              "        [0.3479, 0.3387, 0.3295, 0.3203, 0.3113, 0.3025, 0.2941, 0.2860, 0.2783,\n",
              "         0.2712],\n",
              "        [0.3517, 0.3426, 0.3334, 0.3243, 0.3154, 0.3066, 0.2982, 0.2901, 0.2825,\n",
              "         0.2753],\n",
              "        [0.3553, 0.3464, 0.3373, 0.3284, 0.3195, 0.3108, 0.3025, 0.2945, 0.2869,\n",
              "         0.2797],\n",
              "        [0.3588, 0.3500, 0.3412, 0.3324, 0.3237, 0.3152, 0.3070, 0.2991, 0.2915,\n",
              "         0.2844]], grad_fn=<ViewBackward0>)"
            ]
          },
          "metadata": {},
          "execution_count": 19
        }
      ]
    },
    {
      "cell_type": "code",
      "source": [
        "demo_model(X,Y).shape[-1]"
      ],
      "metadata": {
        "colab": {
          "base_uri": "https://localhost:8080/"
        },
        "id": "oMsAKZ4-uu0G",
        "outputId": "62a6f0cc-cb10-4c5d-b522-176a11d87185"
      },
      "execution_count": 25,
      "outputs": [
        {
          "output_type": "execute_result",
          "data": {
            "text/plain": [
              "10"
            ]
          },
          "metadata": {},
          "execution_count": 25
        }
      ]
    },
    {
      "cell_type": "markdown",
      "source": [
        "Constructing loss functions"
      ],
      "metadata": {
        "id": "NK_0VBI7fkml"
      }
    },
    {
      "cell_type": "code",
      "source": [
        "def pde_loss(model:nn.Module,\n",
        "             x:torch.Tensor,\n",
        "             y:torch.Tensor):\n",
        "  '''\n",
        "  calculates loss according to the heat equation\n",
        "  Inputs:\n",
        "  Model:the neural network being trained\n",
        "  x,y: x,y direction coordinates of meshgrid\n",
        "\n",
        "  Output: Value of loss according to heat equation\n",
        "  '''\n",
        "\n",
        "  x.requires_grad_(True)\n",
        "  y.requires_grad_(True)\n",
        "\n",
        "  #calculate meshgrid\n",
        "  f=model(X,Y)\n",
        "\n",
        "  #Calculate gradients\n",
        "  f_x=torch.autograd.grad(f,x,torch.ones_like(f),create_graph=True)[0]\n",
        "  f_y=torch.autograd.grad(f,y,torch.ones_like(f),create_graph=True)[0]\n",
        "\n",
        "  #Calculate second order gradients\n",
        "  f_xx=torch.autograd.grad(f_x,x,torch.ones_like(f_x),create_graph=True)[0]\n",
        "  f_yy=torch.autograd.grad(f_y,y,torch.ones_like(f_y),create_graph=True)[0]\n",
        "\n",
        "  #Calculate target value of function\n",
        "  target=8*np.pi**2*torch.sin(2*np.pi*x)*torch.sin(2*np.pi*y)\n",
        "\n",
        "  #Calculate loss\n",
        "  loss=torch.mean((f_xx+f_yy-target)**2)\n",
        "\n",
        "  return loss\n",
        "\n",
        "\n",
        "\n",
        "\n",
        "def boundary_loss(model:nn.Module,\n",
        "                  x:torch.Tensor,\n",
        "                  y:torch.Tensor):\n",
        "  ''' Input: the gird coordinates and model\n",
        "      Output:Boundary Loss Value\n",
        "      loss is defined for a specific boundary condition will have to change function depending on the problem, it is NOT a generally usable function\n",
        "  '''\n",
        "  x.requires_grad_(True)\n",
        "  y.requires_grad_(True)\n",
        "\n",
        "  #calculate meshgrid\n",
        "  f=model(X,Y)\n",
        "\n",
        "  #get loss\n",
        "  loss=(f[0,:]-torch.zeros(f.shape[-1]))**2+ (f[-1,:]-torch.zeros(f.shape[-1]))**2+ (f[:,0]-torch.zeros(f.shape[-1]))**2+ (f[:,-1]-torch.zeros(f.shape[-1]))**2\n",
        "\n",
        "  # return loss\n",
        "  return torch.mean(loss)\n",
        "\n",
        "\n",
        "\n",
        "\n",
        "\n",
        "\n",
        "def total_loss(model:nn.Module,\n",
        "               x:torch.Tensor,\n",
        "               y:torch.Tensor,\n",
        "               boundary_loss_weight:float=100.0):\n",
        "  '''Combining both loss functions using a specific weight to measure relative importance of the 2 losses'''\n",
        "  return pde_loss(model,x,y)+boundary_loss_weight*boundary_loss(model,x,y)"
      ],
      "metadata": {
        "id": "CITduvBZ1EV3"
      },
      "execution_count": 42,
      "outputs": []
    },
    {
      "cell_type": "markdown",
      "source": [
        "test loss function"
      ],
      "metadata": {
        "id": "qhi4b2kyuEQ_"
      }
    },
    {
      "cell_type": "code",
      "source": [
        "loss=total_loss(demo_model,X,Y)\n",
        "print(loss)"
      ],
      "metadata": {
        "colab": {
          "base_uri": "https://localhost:8080/"
        },
        "id": "Hvq61a3yuC1D",
        "outputId": "ce4bd3e1-a60e-4e93-eba1-bdbdec6ff804"
      },
      "execution_count": 43,
      "outputs": [
        {
          "output_type": "stream",
          "name": "stdout",
          "text": [
            "tensor(1299.7664, grad_fn=<AddBackward0>)\n"
          ]
        }
      ]
    },
    {
      "cell_type": "markdown",
      "source": [
        "Set Optimizer and Train\n"
      ],
      "metadata": {
        "id": "i7gvnO4X1Kv_"
      }
    },
    {
      "cell_type": "code",
      "source": [
        "#Try plotting after every few steps to visualize the training process\n",
        "#Initialize Model\n",
        "model=SolutionFunction()\n",
        "\n",
        "#Set SGD Optimizer\n",
        "sgd_optimizer=torch.optim.SGD(model.parameters(),lr=0.01)\n",
        "\n",
        "#Set ADAM Optimizer\n",
        "adam_optimizer=torch.optim.Adam(model.parameters(),lr=0.01)"
      ],
      "metadata": {
        "id": "V8-KTaG_1WDQ"
      },
      "execution_count": null,
      "outputs": []
    },
    {
      "cell_type": "markdown",
      "source": [
        "Make Training Loop"
      ],
      "metadata": {
        "id": "p2HhLJyPxOi1"
      }
    },
    {
      "cell_type": "code",
      "source": [],
      "metadata": {
        "id": "jmgReb0vxQwm"
      },
      "execution_count": null,
      "outputs": []
    },
    {
      "cell_type": "markdown",
      "source": [
        "##Example 2\n",
        "Heat Equation: ∂²T/∂x² + ∂²T/∂y² = 0\n",
        "\n",
        "Initial Conditions:\n",
        "T(0,y) = 0\n",
        "T(1,y) = 0\n",
        "T(x,0) = 0\n",
        "T(x,1) = sin(πx)\n"
      ],
      "metadata": {
        "id": "Yuk7xTQAhA9s"
      }
    },
    {
      "cell_type": "code",
      "source": [],
      "metadata": {
        "id": "Nd1jnHRQhMMr"
      },
      "execution_count": null,
      "outputs": []
    },
    {
      "cell_type": "markdown",
      "source": [
        "##Example 3\n",
        "Heat Equation: ∂²T/∂x² + ∂²T/∂y² = 0\n",
        "\n",
        "Initial Conditions:\n",
        "T(0,y) = 0\n",
        "T(1,y) = y(1-y)\n",
        "T(x,0) = 0\n",
        "T(x,1) = 0\n"
      ],
      "metadata": {
        "id": "TC13_BX4hP7S"
      }
    },
    {
      "cell_type": "code",
      "source": [],
      "metadata": {
        "id": "jD7b51oLhxkG"
      },
      "execution_count": null,
      "outputs": []
    },
    {
      "cell_type": "markdown",
      "source": [
        "##Example 4\n",
        "Heat Equation: ∂T/∂t = α(∂²T/∂x² + ∂²T/∂y²)\n",
        "\n",
        "Initial Conditions:\n",
        "T(x,y,0) = sin(πx)sin(πy)\n",
        "T(0,y,t) = 0\n",
        "T(1,y,t) = 0\n",
        "T(x,0,t) = 0\n",
        "T(x,1,t) = 0\n",
        "α = 0.01\n"
      ],
      "metadata": {
        "id": "IM5pYejWhytA"
      }
    },
    {
      "cell_type": "code",
      "source": [],
      "metadata": {
        "id": "f8Y6o_E9h5Ph"
      },
      "execution_count": null,
      "outputs": []
    }
  ]
}